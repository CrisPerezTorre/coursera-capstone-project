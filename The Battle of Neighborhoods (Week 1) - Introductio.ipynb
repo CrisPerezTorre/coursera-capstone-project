{
    "nbformat_minor": 1, 
    "cells": [
        {
            "source": "## Introduction\n\t\n\nCarol wants to open her Burger Joint in some Locality (District) of Bogot\u00e1, Colombia. To aim this goal, she would like to have an analysis where she can find the best allocation for her new business. For this reason, she is asking our help in finding the best Locality in Bogota.\n", 
            "cell_type": "markdown", 
            "metadata": {
                "collapsed": true
            }
        }, 
        {
            "source": "## Business Problem\n\n\nIn order to open Carol's burger joint, we will have the need to use some information about the Localities in Bogot\u00e1.\nWe must be sure that the place where the burger joint is opened will have enough customers and also that there aren't a large amount of burger joints in the place. For this reason, we need to analyze different scenarios in the area to make sure that the restaurant will be successful in the area. We are going to try to avoid others Burger Joint in the area and we are looking for a area where there are:\n - Schools\n - Universities\n - Offices\n\nFor this project we are mainly concerned with the area around Bogota to setup a Burger Joint to ensure maximum profitability for Carol's new business.\n", 
            "cell_type": "markdown", 
            "metadata": {}
        }
    ], 
    "metadata": {
        "kernelspec": {
            "display_name": "Python 3.5", 
            "name": "python3", 
            "language": "python"
        }, 
        "language_info": {
            "mimetype": "text/x-python", 
            "nbconvert_exporter": "python", 
            "version": "3.5.5", 
            "name": "python", 
            "file_extension": ".py", 
            "pygments_lexer": "ipython3", 
            "codemirror_mode": {
                "version": 3, 
                "name": "ipython"
            }
        }
    }, 
    "nbformat": 4
}