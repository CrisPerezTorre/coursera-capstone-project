{
    "nbformat_minor": 1, 
    "cells": [
        {
            "source": "## Introduction\n\t\n\n\tCarol wants to open his Burger Joint in some Locality (District) of of Bogot\u00e1, Colombia.\n\tAnd she is asking our help in finding the best Locality.\n", 
            "cell_type": "markdown", 
            "metadata": {
                "collapsed": true
            }
        }, 
        {
            "source": "## Business Problem\n\n\nIn order to open Carol's burger joint, we will have the need to use some information about the Localities in Bogot\u00e1.\nWe must be sure that the place where the burger joint is opened will have enough customers and also that there aren't a large amount of burger joints in the place. For this reason, we need to analyze different scenarios in the area to make sure that the restaurant will be successful in the area.\n", 
            "cell_type": "markdown", 
            "metadata": {}
        }, 
        {
            "execution_count": null, 
            "cell_type": "code", 
            "metadata": {}, 
            "outputs": [], 
            "source": ""
        }
    ], 
    "metadata": {
        "kernelspec": {
            "display_name": "Python 3.5", 
            "name": "python3", 
            "language": "python"
        }, 
        "language_info": {
            "mimetype": "text/x-python", 
            "nbconvert_exporter": "python", 
            "version": "3.5.5", 
            "name": "python", 
            "file_extension": ".py", 
            "pygments_lexer": "ipython3", 
            "codemirror_mode": {
                "version": 3, 
                "name": "ipython"
            }
        }
    }, 
    "nbformat": 4
}