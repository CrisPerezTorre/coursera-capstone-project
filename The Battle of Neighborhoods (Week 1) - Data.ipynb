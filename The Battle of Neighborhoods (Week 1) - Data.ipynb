{
    "nbformat_minor": 1, 
    "cells": [
        {
            "source": "## Data\n\t\n\n\tTo help Carol in her search we will need to access following data:\n\t\n\n\t- The Localities of Bogot\u00e1, Colombia from Wikipedia: https://es.wikipedia.org/wiki/Anexo:Localidades_de_Bogot%C3%A1\n\t\n\n\t- The coordinates (latitude, longitude) to these Localities of Bogot\u00e1 from Open Street Map APIs\n\t\n\n\t- From Foursquare we will need following venues data:\n\t  - the burger joint venues of the Localities\n\t  - the offices venues of the Localities\n\t  - the high schools venues of the Localities\n\t  - the universities venues of the Localities\n\t\n\n\tWe will then leverage the data in order to determine which locality is the most appropriate in order to locate the burger joint.\n", 
            "cell_type": "markdown", 
            "metadata": {
                "collapsed": true
            }
        }, 
        {
            "execution_count": null, 
            "cell_type": "code", 
            "metadata": {}, 
            "outputs": [], 
            "source": ""
        }
    ], 
    "metadata": {
        "kernelspec": {
            "display_name": "Python 3.5", 
            "name": "python3", 
            "language": "python"
        }, 
        "language_info": {
            "mimetype": "text/x-python", 
            "nbconvert_exporter": "python", 
            "version": "3.5.5", 
            "name": "python", 
            "file_extension": ".py", 
            "pygments_lexer": "ipython3", 
            "codemirror_mode": {
                "version": 3, 
                "name": "ipython"
            }
        }
    }, 
    "nbformat": 4
}